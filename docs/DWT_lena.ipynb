{
 "cells": [
  {
   "cell_type": "markdown",
   "metadata": {},
   "source": [
    "# DWT of lena\n",
    "\n",
    "Generates two images with the DWT of lena (normalized and without normalization)."
   ]
  },
  {
   "cell_type": "code",
   "execution_count": null,
   "metadata": {},
   "outputs": [],
   "source": [
    "import pywt # pip install pywavelets\n",
    "from matplotlib import pyplot as plt\n",
    "%matplotlib inline\n",
    "import numpy as np\n",
    "import urllib.request\n",
    "import cv2 # pip install opencv-python"
   ]
  },
  {
   "cell_type": "code",
   "execution_count": null,
   "metadata": {},
   "outputs": [],
   "source": [
    "# Load lena\n",
    "HTTP_response = urllib.request.urlopen('http://www.hpca.ual.es/~vruiz/images/lena.png')\n",
    "arr = np.asarray(bytearray(HTTP_response.read()), dtype=np.uint8)\n",
    "BRG = cv2.imdecode(arr, -1)\n",
    "pixels = cv2.cvtColor(BRG, cv2.COLOR_BGR2RGB)\n",
    "plt.imshow(pixels)"
   ]
  },
  {
   "cell_type": "code",
   "execution_count": null,
   "metadata": {},
   "outputs": [],
   "source": [
    "fig = plt.figure(figsize=(8, 8))\n",
    "plt.subplot(1, 1, 1)\n",
    "plt.imshow(pixels)\n",
    "plt.savefig(\"lena.png\")"
   ]
  },
  {
   "cell_type": "code",
   "execution_count": null,
   "metadata": {},
   "outputs": [],
   "source": [
    "# Color 2D-DWT is the 2D-DWT of each component\n",
    "components = ('r','g','b')\n",
    "coeffs = [None]*3\n",
    "wavelet_= 'bior2.2'\n",
    "#wavelet_ = \"db5\"\n",
    "#wavelet_ = \"bior3.5\"\n",
    "levels_ = 3\n",
    "for i,com in enumerate(components):\n",
    "    print(\"{} \".format(i), end='')\n",
    "    coeffs[i] = pywt.wavedec2(pixels[:,:,i], wavelet=wavelet_, level=levels_, mode='per')"
   ]
  },
  {
   "cell_type": "code",
   "execution_count": null,
   "metadata": {},
   "outputs": [],
   "source": [
    "# View DWT coefs\n",
    "\n",
    "fig = plt.figure(figsize=(8, 8))\n",
    "\n",
    "view = np.empty(pixels.shape, 'uint8')\n",
    "\n",
    "# LL subband\n",
    "for i,com in enumerate(components):\n",
    "    x = coeffs[i][0][:,:]\n",
    "    y = ((x - x.min()) / (x.max() - x.min())*255).astype('uint8')\n",
    "    view[0:coeffs[i][0].shape[0],\n",
    "         0:coeffs[i][0].shape[1],\n",
    "         i] = y\n",
    "\n",
    "for l in range(levels_):\n",
    "\n",
    "    # LH\n",
    "    for i,com in enumerate(components):\n",
    "        x = coeffs[i][l+1][0][:,:]\n",
    "        y = ((x - x.min()) / (x.max() - x.min())*255).astype('uint8')\n",
    "        view[0:coeffs[i][l+1][0].shape[0],\n",
    "             coeffs[i][l+1][0].shape[1]:coeffs[i][l+1][0].shape[1]*2,\n",
    "             i] = y\n",
    "\n",
    "    # HH\n",
    "    for i,com in enumerate(components):\n",
    "        x = coeffs[i][l+1][1][:,:]\n",
    "        y = ((x - x.min()) / (x.max() - x.min())*255).astype('uint8')\n",
    "        view[coeffs[i][l+1][1].shape[0]:coeffs[i][l+1][1].shape[0]*2,\n",
    "             0:coeffs[i][l+1][1].shape[1],\n",
    "             i] = y\n",
    "\n",
    "    # HH\n",
    "    for i,com in enumerate(components):\n",
    "        x = coeffs[i][l+1][2][:,:]\n",
    "        y = ((x - x.min()) / (x.max() - x.min())*255).astype('uint8')\n",
    "        view[coeffs[i][l+1][2].shape[0]:coeffs[i][l+1][2].shape[0]*2,\n",
    "             coeffs[i][l+1][2].shape[1]:coeffs[i][l+1][2].shape[1]*2,\n",
    "             i] = y\n",
    "\n",
    "plt.subplot(1, 1, 1)\n",
    "plt.imshow(view)\n",
    "plt.savefig(\"dwt_lena_normalized.png\")"
   ]
  },
  {
   "cell_type": "code",
   "execution_count": null,
   "metadata": {},
   "outputs": [],
   "source": [
    "# View DWT coefs\n",
    "\n",
    "fig = plt.figure(figsize=(8, 8))\n",
    "\n",
    "view = np.empty(pixels.shape, 'uint8')\n",
    "\n",
    "# LL subband\n",
    "for i,com in enumerate(components):\n",
    "    x = coeffs[i][0][:,:]\n",
    "    y = ((x - x.min()) / (x.max() - x.min())*255).astype('uint8')\n",
    "    view[0:coeffs[i][0].shape[0],\n",
    "         0:coeffs[i][0].shape[1],\n",
    "         i] = y\n",
    "\n",
    "for l in range(levels_):\n",
    "\n",
    "    # LH\n",
    "    for i,com in enumerate(components):\n",
    "        x = coeffs[i][l+1][0][:,:]\n",
    "        #y = ((x - x.min()) / (x.max() - x.min())*255).astype('uint8')\n",
    "        view[0:coeffs[i][l+1][0].shape[0],\n",
    "             coeffs[i][l+1][0].shape[1]:coeffs[i][l+1][0].shape[1]*2,\n",
    "             i] = x + 128\n",
    "\n",
    "    # HH\n",
    "    for i,com in enumerate(components):\n",
    "        x = coeffs[i][l+1][1][:,:]\n",
    "        #y = ((x - x.min()) / (x.max() - x.min())*255).astype('uint8')\n",
    "        view[coeffs[i][l+1][1].shape[0]:coeffs[i][l+1][1].shape[0]*2,\n",
    "             0:coeffs[i][l+1][1].shape[1],\n",
    "             i] = x + 128\n",
    "\n",
    "    # HH\n",
    "    for i,com in enumerate(components):\n",
    "        x = coeffs[i][l+1][2][:,:]\n",
    "        #y = ((x - x.min()) / (x.max() - x.min())*255).astype('uint8')\n",
    "        view[coeffs[i][l+1][2].shape[0]:coeffs[i][l+1][2].shape[0]*2,\n",
    "             coeffs[i][l+1][2].shape[1]:coeffs[i][l+1][2].shape[1]*2,\n",
    "             i] = x + 128\n",
    "\n",
    "plt.subplot(1, 1, 1)\n",
    "plt.imshow(view)\n",
    "plt.savefig(\"dwt_lena.png\")"
   ]
  }
 ],
 "metadata": {
  "kernelspec": {
   "display_name": "Python 3",
   "language": "python",
   "name": "python3"
  },
  "language_info": {
   "codemirror_mode": {
    "name": "ipython",
    "version": 3
   },
   "file_extension": ".py",
   "mimetype": "text/x-python",
   "name": "python",
   "nbconvert_exporter": "python",
   "pygments_lexer": "ipython3",
   "version": "3.9.9"
  }
 },
 "nbformat": 4,
 "nbformat_minor": 4
}
