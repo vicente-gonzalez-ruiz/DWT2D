{
 "cells": [
  {
   "cell_type": "markdown",
   "metadata": {},
   "source": [
    "[![Binder](https://mybinder.org/badge_logo.svg)](https://nbviewer.org/github/Sistemas-Multimedia/Sistemas-Multimedia.github.io/blob/master/milestones/08-DWT/dwt_filters_analysis.ipynb)"
   ]
  },
  {
   "cell_type": "markdown",
   "metadata": {},
   "source": [
    "# Study of some wavelet filters"
   ]
  },
  {
   "cell_type": "code",
   "execution_count": null,
   "metadata": {
    "execution": {
     "iopub.execute_input": "2022-12-28T03:52:15.674135Z",
     "iopub.status.busy": "2022-12-28T03:52:15.673241Z",
     "iopub.status.idle": "2022-12-28T03:52:16.829954Z",
     "shell.execute_reply": "2022-12-28T03:52:16.828634Z"
    }
   },
   "outputs": [],
   "source": [
    "import math\n",
    "import numpy as np\n",
    "from scipy import signal\n",
    "import pylab\n",
    "import pywt # pip install pywavelets"
   ]
  },
  {
   "cell_type": "code",
   "execution_count": null,
   "metadata": {
    "execution": {
     "iopub.execute_input": "2022-12-28T03:52:16.835405Z",
     "iopub.status.busy": "2022-12-28T03:52:16.834995Z",
     "iopub.status.idle": "2022-12-28T03:52:16.840624Z",
     "shell.execute_reply": "2022-12-28T03:52:16.839528Z"
    }
   },
   "outputs": [],
   "source": [
    "# Ubuntu extra packages related with the font used in the figures\n",
    "# sudo apt install cm-super-minimal\n",
    "# !sudo apt install dvipng\n",
    "\n",
    "# https://matplotlib.org/3.1.1/tutorials/text/usetex.html\n",
    "from matplotlib import rc\n",
    "rc('font',**{'family':'sans-serif','sans-serif':['Helvetica']})\n",
    "## for Palatino and other serif fonts use:\n",
    "#rc('font',**{'family':'serif','serif':['Palatino']})\n",
    "rc('text', usetex=True)"
   ]
  },
  {
   "cell_type": "code",
   "execution_count": null,
   "metadata": {
    "execution": {
     "iopub.execute_input": "2022-12-28T03:52:16.845514Z",
     "iopub.status.busy": "2022-12-28T03:52:16.845230Z",
     "iopub.status.idle": "2022-12-28T03:52:16.851252Z",
     "shell.execute_reply": "2022-12-28T03:52:16.850254Z"
    }
   },
   "outputs": [],
   "source": [
    "def get_filter(wavelet_name, coef_index, N):\n",
    "    wavelet = pywt.Wavelet(wavelet_name)\n",
    "    zeros = np.zeros(N)\n",
    "    decomposition = pywt.wavedec(zeros, wavelet=wavelet, level=1, mode=\"per\")\n",
    "    coefficients, slices = pywt.coeffs_to_array(decomposition)\n",
    "    coefficients[coef_index] = 1\n",
    "    decomposition = pywt.array_to_coeffs(coefficients, slices, output_format=\"wavedec\")\n",
    "    samples = pywt.waverec(decomposition, wavelet=wavelet, mode=\"per\")\n",
    "    return samples"
   ]
  },
  {
   "cell_type": "markdown",
   "metadata": {},
   "source": [
    "## [Haar](http://wavelets.pybytes.com/wavelet/haar/)"
   ]
  },
  {
   "cell_type": "code",
   "execution_count": null,
   "metadata": {
    "execution": {
     "iopub.execute_input": "2022-12-28T03:52:16.855527Z",
     "iopub.status.busy": "2022-12-28T03:52:16.855248Z",
     "iopub.status.idle": "2022-12-28T03:52:16.863432Z",
     "shell.execute_reply": "2022-12-28T03:52:16.861809Z"
    }
   },
   "outputs": [],
   "source": [
    "#K_0 = get_filter(\"haar\", 0, 2)\n",
    "haar_K_0 = get_filter(\"haar\", 8, 32)\n",
    "#K_1 = get_filter(\"haar\", 1, 2)\n",
    "haar_K_1 = get_filter(\"haar\", 24,32)\n",
    "print(\"K_0 =\", haar_K_0)\n",
    "print(\"K_1 =\", haar_K_1)"
   ]
  },
  {
   "cell_type": "code",
   "execution_count": null,
   "metadata": {
    "execution": {
     "iopub.execute_input": "2022-12-28T03:52:16.916883Z",
     "iopub.status.busy": "2022-12-28T03:52:16.916545Z",
     "iopub.status.idle": "2022-12-28T03:52:16.922773Z",
     "shell.execute_reply": "2022-12-28T03:52:16.921545Z"
    }
   },
   "outputs": [],
   "source": [
    "w0, haar_scaling_freq_response = signal.freqz(haar_K_0)\n",
    "w1, haar_wavelet_freq_response = signal.freqz(haar_K_1)"
   ]
  },
  {
   "cell_type": "code",
   "execution_count": null,
   "metadata": {
    "execution": {
     "iopub.execute_input": "2022-12-28T03:52:16.927650Z",
     "iopub.status.busy": "2022-12-28T03:52:16.927361Z",
     "iopub.status.idle": "2022-12-28T03:52:18.220698Z",
     "shell.execute_reply": "2022-12-28T03:52:18.219142Z"
    }
   },
   "outputs": [],
   "source": [
    "#pylab.figure(figsize=(12,8), dpi=150)\n",
    "pylab.figure(dpi=150)\n",
    "pylab.plot(w0/math.pi, np.abs(haar_scaling_freq_response), 'r', label=\"$|{\\mathbf K}_0(e^{j\\omega})|$\")\n",
    "pylab.plot(w1/math.pi, np.abs(haar_wavelet_freq_response), 'b', label=\"$|{\\mathbf K}_1(e^{j\\omega})|$\")\n",
    "#pylab.plot(w0/math.pi, np.abs(scaling_function + wavelet_function), 'g', label=\"$|K_0(e^{j\\omega})+K_1(e^{j\\omega})|$\")\n",
    "pylab.legend(loc='lower right')\n",
    "pylab.title(\"Frequency response of the Haar filters\")\n",
    "pylab.xlabel(\"Normalized frequency\")\n",
    "pylab.ylabel(\"Gain\")\n",
    "pylab.savefig(\"haar_modulus.svg\")\n",
    "pylab.savefig(\"haar_modulus.pdf\")\n",
    "pylab.show()"
   ]
  },
  {
   "cell_type": "code",
   "execution_count": null,
   "metadata": {
    "execution": {
     "iopub.execute_input": "2022-12-28T03:52:18.225621Z",
     "iopub.status.busy": "2022-12-28T03:52:18.225301Z",
     "iopub.status.idle": "2022-12-28T03:52:18.231782Z",
     "shell.execute_reply": "2022-12-28T03:52:18.230672Z"
    }
   },
   "outputs": [],
   "source": [
    "haar_angles_sf = np.unwrap(np.angle(haar_scaling_freq_response))[1:]\n",
    "haar_angles_wf = np.unwrap(np.angle(haar_wavelet_freq_response))[1:]"
   ]
  },
  {
   "cell_type": "code",
   "execution_count": null,
   "metadata": {
    "execution": {
     "iopub.execute_input": "2022-12-28T03:52:18.236205Z",
     "iopub.status.busy": "2022-12-28T03:52:18.235795Z",
     "iopub.status.idle": "2022-12-28T03:52:19.124644Z",
     "shell.execute_reply": "2022-12-28T03:52:19.123485Z"
    }
   },
   "outputs": [],
   "source": [
    "pylab.figure(dpi=150)\n",
    "pylab.plot(w0[1:]/math.pi, haar_angles_sf, 'r', label=\"arg ${\\mathbf K}_0(e^{j\\omega})$\")\n",
    "pylab.plot(w1[1:]/math.pi, haar_angles_wf, 'b', label=\"arg ${\\mathbf K}_1(e^{j\\omega})$\")\n",
    "pylab.legend(loc='lower left')\n",
    "pylab.title(\"Frequency response of the Haar filters\")\n",
    "pylab.xlabel(\"Normalized frequency\")\n",
    "pylab.ylabel(\"Angle (radians)\")\n",
    "pylab.savefig(\"haar_phase.svg\")\n",
    "pylab.savefig(\"haar_phase.pdf\")\n",
    "pylab.show()"
   ]
  },
  {
   "cell_type": "markdown",
   "metadata": {},
   "source": [
    "## [Daubechies 5](http://wavelets.pybytes.com/wavelet/db5/)"
   ]
  },
  {
   "cell_type": "code",
   "execution_count": null,
   "metadata": {
    "execution": {
     "iopub.execute_input": "2022-12-28T03:52:19.129907Z",
     "iopub.status.busy": "2022-12-28T03:52:19.129470Z",
     "iopub.status.idle": "2022-12-28T03:52:19.137831Z",
     "shell.execute_reply": "2022-12-28T03:52:19.136765Z"
    }
   },
   "outputs": [],
   "source": [
    "#K_0 = get_filter(\"db5\", 2, 20)\n",
    "db5_K_0 = get_filter(\"db5\", 8, 32)\n",
    "#K_1 = get_filter(\"db5\", 7, 20)\n",
    "db5_K_1 = get_filter(\"db5\", 24, 32)\n",
    "print(\"K_0 =\", db5_K_0)\n",
    "print(\"K_1 =\", db5_K_1)"
   ]
  },
  {
   "cell_type": "code",
   "execution_count": null,
   "metadata": {
    "execution": {
     "iopub.execute_input": "2022-12-28T03:52:19.142964Z",
     "iopub.status.busy": "2022-12-28T03:52:19.142099Z",
     "iopub.status.idle": "2022-12-28T03:52:19.149712Z",
     "shell.execute_reply": "2022-12-28T03:52:19.148464Z"
    }
   },
   "outputs": [],
   "source": [
    "w0, db5_scaling_freq_response = signal.freqz(db5_K_0)\n",
    "w1, db5_wavelet_freq_response = signal.freqz(db5_K_1)"
   ]
  },
  {
   "cell_type": "code",
   "execution_count": null,
   "metadata": {
    "execution": {
     "iopub.execute_input": "2022-12-28T03:52:19.154326Z",
     "iopub.status.busy": "2022-12-28T03:52:19.153922Z",
     "iopub.status.idle": "2022-12-28T03:52:20.069435Z",
     "shell.execute_reply": "2022-12-28T03:52:20.068273Z"
    }
   },
   "outputs": [],
   "source": [
    "pylab.figure(dpi=150)\n",
    "pylab.plot(w0/math.pi, np.abs(db5_scaling_freq_response), 'r', label=\"$|{\\mathbf K}_0(e^{j\\omega})|$\")\n",
    "pylab.plot(w1/math.pi, np.abs(db5_wavelet_freq_response), 'b', label=\"$|{\\mathbf K}_1(e^{j\\omega})|$\")\n",
    "#pylab.plot(w0/math.pi, np.abs(scaling_function + wavelet_function), 'g', label=\"$|K_0(e^{j\\omega})+K_1(e^{j\\omega})|$\")\n",
    "pylab.legend(loc='lower right')\n",
    "pylab.title(\"Frequency response of the Daubechies-5 filters\")\n",
    "pylab.xlabel(\"Normalized frequency\")\n",
    "pylab.ylabel(\"Gain\")\n",
    "pylab.savefig(\"db5_modulus.svg\")\n",
    "pylab.savefig(\"db5_modulus.pdf\")\n",
    "pylab.show()"
   ]
  },
  {
   "cell_type": "code",
   "execution_count": null,
   "metadata": {
    "execution": {
     "iopub.execute_input": "2022-12-28T03:52:20.075430Z",
     "iopub.status.busy": "2022-12-28T03:52:20.075082Z",
     "iopub.status.idle": "2022-12-28T03:52:20.082713Z",
     "shell.execute_reply": "2022-12-28T03:52:20.081503Z"
    }
   },
   "outputs": [],
   "source": [
    "db5_angles_sf = np.unwrap(np.angle(db5_scaling_freq_response))[1:]\n",
    "db5_angles_wf = np.unwrap(np.angle(db5_wavelet_freq_response))[1:]"
   ]
  },
  {
   "cell_type": "code",
   "execution_count": null,
   "metadata": {
    "execution": {
     "iopub.execute_input": "2022-12-28T03:52:20.087950Z",
     "iopub.status.busy": "2022-12-28T03:52:20.087537Z",
     "iopub.status.idle": "2022-12-28T03:52:21.012170Z",
     "shell.execute_reply": "2022-12-28T03:52:21.011125Z"
    }
   },
   "outputs": [],
   "source": [
    "pylab.figure(dpi=150)\n",
    "pylab.plot(w0[1:]/math.pi, db5_angles_sf, 'r', label=\"arg ${\\mathbf K}_0(e^{j\\omega})$\")\n",
    "pylab.plot(w1[1:]/math.pi, db5_angles_wf, 'b', label=\"arg ${\\mathbf K}_1(e^{j\\omega})$\")\n",
    "pylab.legend(loc='upper right')\n",
    "pylab.title(\"Frequency response of the Daubechies-5 filters\")\n",
    "pylab.xlabel(\"Normalized frequency\")\n",
    "pylab.ylabel(\"Angle (radians)\")\n",
    "pylab.savefig(\"db5_phase.svg\")\n",
    "pylab.savefig(\"db5_phase.pdf\")\n",
    "pylab.show()"
   ]
  },
  {
   "cell_type": "markdown",
   "metadata": {},
   "source": [
    "## [Biorthogonal 3.5](http://wavelets.pybytes.com/wavelet/bior3.5/)"
   ]
  },
  {
   "cell_type": "code",
   "execution_count": null,
   "metadata": {
    "execution": {
     "iopub.execute_input": "2022-12-28T03:52:21.017063Z",
     "iopub.status.busy": "2022-12-28T03:52:21.016711Z",
     "iopub.status.idle": "2022-12-28T03:52:21.025861Z",
     "shell.execute_reply": "2022-12-28T03:52:21.024555Z"
    }
   },
   "outputs": [],
   "source": [
    "#bior35_K_0 = get_filter(\"bior3.5\", 2, 12)\n",
    "#bior35_K_1 = get_filter(\"bior3.5\", 18, 24)\n",
    "bior35_K_0 = get_filter(\"bior3.5\", 8, 32)\n",
    "bior35_K_1 = get_filter(\"bior3.5\", 24, 32)\n",
    "print(\"K_0 =\", bior35_K_0)\n",
    "print(\"K_1 =\", bior35_K_1)"
   ]
  },
  {
   "cell_type": "code",
   "execution_count": null,
   "metadata": {
    "execution": {
     "iopub.execute_input": "2022-12-28T03:52:21.031365Z",
     "iopub.status.busy": "2022-12-28T03:52:21.030992Z",
     "iopub.status.idle": "2022-12-28T03:52:21.037463Z",
     "shell.execute_reply": "2022-12-28T03:52:21.036134Z"
    }
   },
   "outputs": [],
   "source": [
    "w0, bior35_scaling_freq_response = signal.freqz(bior35_K_0)\n",
    "w1, bior35_wavelet_freq_response = signal.freqz(bior35_K_1)"
   ]
  },
  {
   "cell_type": "code",
   "execution_count": null,
   "metadata": {
    "execution": {
     "iopub.execute_input": "2022-12-28T03:52:21.043829Z",
     "iopub.status.busy": "2022-12-28T03:52:21.043279Z",
     "iopub.status.idle": "2022-12-28T03:52:21.982898Z",
     "shell.execute_reply": "2022-12-28T03:52:21.981708Z"
    }
   },
   "outputs": [],
   "source": [
    "pylab.figure(dpi=150)\n",
    "pylab.plot(w0/math.pi, abs(bior35_scaling_freq_response), 'r', label=\"$|{\\mathbf K}_0(e^{j\\omega})|$\")\n",
    "pylab.plot(w1/math.pi, abs(bior35_wavelet_freq_response), 'b', label=\"$|{\\mathbf K}_1(e^{j\\omega})|$\")\n",
    "pylab.legend(loc='upper right')\n",
    "pylab.title(\"Frequency response of the Biorthogonal-3.5 filters\")\n",
    "pylab.xlabel(\"Normalized frequency\")\n",
    "pylab.ylabel(\"Attenuation [dB]\")\n",
    "pylab.savefig(\"bior3.5_modulus.svg\")\n",
    "pylab.savefig(\"bior3.5_modulus.pdf\")\n",
    "pylab.show()"
   ]
  },
  {
   "cell_type": "code",
   "execution_count": null,
   "metadata": {
    "execution": {
     "iopub.execute_input": "2022-12-28T03:52:21.987421Z",
     "iopub.status.busy": "2022-12-28T03:52:21.986947Z",
     "iopub.status.idle": "2022-12-28T03:52:21.992471Z",
     "shell.execute_reply": "2022-12-28T03:52:21.991553Z"
    }
   },
   "outputs": [],
   "source": [
    "bior35_angles_sf = np.unwrap(np.angle(bior35_scaling_freq_response))[1:]\n",
    "bior35_angles_wf = np.unwrap(np.angle(bior35_wavelet_freq_response))[1:]"
   ]
  },
  {
   "cell_type": "code",
   "execution_count": null,
   "metadata": {
    "execution": {
     "iopub.execute_input": "2022-12-28T03:52:22.016165Z",
     "iopub.status.busy": "2022-12-28T03:52:22.015665Z",
     "iopub.status.idle": "2022-12-28T03:52:22.919882Z",
     "shell.execute_reply": "2022-12-28T03:52:22.918778Z"
    }
   },
   "outputs": [],
   "source": [
    "pylab.figure(dpi=150)\n",
    "pylab.plot(w0[1:]/math.pi, bior35_angles_sf, 'r', label=\"arg ${\\mathbf K}_0(e^{j\\omega})$\")\n",
    "pylab.plot(w1[1:]/math.pi, bior35_angles_wf, 'b', label=\"arg ${\\mathbf K}_1(e^{j\\omega})$\")\n",
    "pylab.legend(loc='lower left')\n",
    "pylab.title(\"Frequency response of the Biorthogonal-5.3 filters\")\n",
    "pylab.xlabel(\"Normalized frequency\")\n",
    "pylab.ylabel(\"Angle (radians)\")\n",
    "pylab.savefig(\"bior5.3_phase.svg\")\n",
    "pylab.savefig(\"bior5.3_phase.pdf\")\n",
    "pylab.show()"
   ]
  },
  {
   "cell_type": "markdown",
   "metadata": {},
   "source": [
    "## Comparing"
   ]
  },
  {
   "cell_type": "code",
   "execution_count": null,
   "metadata": {
    "execution": {
     "iopub.execute_input": "2022-12-28T03:52:22.925402Z",
     "iopub.status.busy": "2022-12-28T03:52:22.925035Z",
     "iopub.status.idle": "2022-12-28T03:52:23.970743Z",
     "shell.execute_reply": "2022-12-28T03:52:23.969455Z"
    },
    "scrolled": false
   },
   "outputs": [],
   "source": [
    "pylab.figure(dpi=150)\n",
    "pylab.plot(w0/math.pi, abs(haar_scaling_freq_response), 'r', label=\"Haar\")\n",
    "pylab.plot(w0/math.pi, abs(db5_scaling_freq_response), 'g', label=\"Daubechies 5\")\n",
    "pylab.plot(w0/math.pi, abs(bior35_scaling_freq_response), 'b', label=\"Biorthogonal 5.3 \")\n",
    "pylab.legend(loc='upper right')\n",
    "pylab.title(\"Frequency response of low-pass filters $|{\\mathbf K}_0(e^{j\\omega})|$\")\n",
    "pylab.xlabel(\"Normalized frequency\")\n",
    "pylab.ylabel(\"Attenuation [dB]\")\n",
    "pylab.savefig(\"comparing_modulus.svg\")\n",
    "pylab.savefig(\"comparing_modulus.pdf\")\n",
    "pylab.show()"
   ]
  },
  {
   "cell_type": "code",
   "execution_count": null,
   "metadata": {
    "execution": {
     "iopub.execute_input": "2022-12-28T03:52:23.975365Z",
     "iopub.status.busy": "2022-12-28T03:52:23.975034Z",
     "iopub.status.idle": "2022-12-28T03:52:23.979973Z",
     "shell.execute_reply": "2022-12-28T03:52:23.978815Z"
    }
   },
   "outputs": [],
   "source": [
    "#raise KeyboardInterrupt"
   ]
  },
  {
   "cell_type": "markdown",
   "metadata": {},
   "source": [
    "## Ignore the rest ..."
   ]
  },
  {
   "cell_type": "markdown",
   "metadata": {},
   "source": [
    "X = np.ones(512)\n",
    "x = np.fft.irfft(X)"
   ]
  },
  {
   "cell_type": "markdown",
   "metadata": {},
   "source": [
    "pylab.plot(np.arange(1022), x, 'r', label=\"arg $K_0(e^{j\\omega})$\")\n",
    "pylab.legend(loc='lower left')\n",
    "pylab.title(\"Frequency response of the Biorthogonal 5.3 filters\")\n",
    "pylab.xlabel(\"Normalized frequency\")\n",
    "pylab.ylabel(\"Angle (radians)\")\n",
    "pylab.savefig(\"bior5.3_phase.svg\")\n",
    "pylab.savefig(\"bior5.3_phase.pdf\")\n",
    "pylab.show()"
   ]
  },
  {
   "cell_type": "markdown",
   "metadata": {},
   "source": [
    "wavelet = pywt.Wavelet(\"bior3.5\")\n",
    "decomposition = pywt.wavedec(x, wavelet=wavelet, level=1, mode=\"per\")\n",
    "y = pywt.waverec(decomposition, wavelet=wavelet, mode=\"per\")"
   ]
  },
  {
   "cell_type": "markdown",
   "metadata": {},
   "source": [
    "Y = np.fft.rfft(y)"
   ]
  },
  {
   "cell_type": "markdown",
   "metadata": {},
   "source": [
    "pylab.plot(np.arange(512), Y, 'r', label=\"arg ${{\\mathbf K}_0(e^{j\\omega})$\")\n",
    "pylab.legend(loc='lower left')\n",
    "pylab.title(\"Frequency response of the Biorthogonal 5.3 filters\")\n",
    "pylab.xlabel(\"Normalized frequency\")\n",
    "pylab.ylabel(\"Angle (radians)\")\n",
    "pylab.savefig(\"bior5.3_phase.svg\")\n",
    "pylab.savefig(\"bior5.3_phase.pdf\")\n",
    "pylab.show()"
   ]
  },
  {
   "cell_type": "markdown",
   "metadata": {},
   "source": [
    "x = np.random.random(1024)-0.5\n",
    "X = np.fft.rfft(x)"
   ]
  },
  {
   "cell_type": "markdown",
   "metadata": {},
   "source": [
    "pylab.plot(np.arange(513), X, 'r', label=\"arg $K_0(e^{j\\omega})$\")\n",
    "pylab.legend(loc='lower left')\n",
    "pylab.title(\"Frequency response of the Biorthogonal 5.3 filters\")\n",
    "pylab.xlabel(\"Normalized frequency\")\n",
    "pylab.ylabel(\"Angle (radians)\")\n",
    "pylab.savefig(\"bior5.3_phase.svg\")\n",
    "pylab.savefig(\"bior5.3_phase.pdf\")\n",
    "pylab.show()"
   ]
  },
  {
   "cell_type": "markdown",
   "metadata": {},
   "source": [
    "wavelet = pywt.Wavelet(\"bior3.5\")\n",
    "decomposition = pywt.wavedec(x, wavelet=wavelet, level=1, mode=\"per\")\n",
    "y = pywt.waverec(decomposition, wavelet=wavelet, mode=\"per\")\n",
    "Y = np.fft.rfft(y)"
   ]
  },
  {
   "cell_type": "markdown",
   "metadata": {},
   "source": [
    "pylab.plot(np.arange(513), Y, 'r', label=\"arg $K_0(e^{j\\omega})$\")\n",
    "pylab.legend(loc='lower left')\n",
    "pylab.title(\"Frequency response of the Biorthogonal 5.3 filters\")\n",
    "pylab.xlabel(\"Normalized frequency\")\n",
    "pylab.ylabel(\"Angle (radians)\")\n",
    "pylab.savefig(\"bior5.3_phase.svg\")\n",
    "pylab.savefig(\"bior5.3_phase.pdf\")\n",
    "pylab.show()"
   ]
  },
  {
   "cell_type": "markdown",
   "metadata": {},
   "source": [
    "def get_filter(wavelet_name, coef_index, N):\n",
    "    wavelet = pywt.Wavelet(wavelet_name)\n",
    "    coefficients = np.zeros(N)\n",
    "    coefficients[coef_index] = 1\n",
    "    decomposition = pywt.wavedec(coefficients, wavelet=wavelet, level=1, mode=\"per\")\n",
    "    coefficients, slices = pywt.coeffs_to_array(decomposition)\n",
    "    return coefficients"
   ]
  },
  {
   "cell_type": "raw",
   "metadata": {},
   "source": [
    "# http://wavelets.pybytes.com/wavelet/bior3.5/\n",
    "K_0 = get_filter(\"bior3.5\", 6, 12)\n",
    "K_1 = get_filter(\"bior3.5\", 22, 48)\n",
    "print(\"K_0 =\", K_0)\n",
    "print(\"K_1 =\", K_1)"
   ]
  },
  {
   "cell_type": "raw",
   "metadata": {},
   "source": [
    "from matplotlib import rcParams\n",
    "rcParams['font.family'] = 'serif'\n",
    "rcParams['font.serif'] = ['Tahoma']\n",
    "import matplotlib.pyplot as plt\n",
    "\n",
    "fig, ax = plt.subplots()\n",
    "ax.plot([1, 2, 3], label='test')\n",
    "\n",
    "ax.legend()\n",
    "plt.show()"
   ]
  }
 ],
 "metadata": {
  "kernelspec": {
   "display_name": "Python 3 (ipykernel)",
   "language": "python",
   "name": "python3"
  },
  "language_info": {
   "codemirror_mode": {
    "name": "ipython",
    "version": 3
   },
   "file_extension": ".py",
   "mimetype": "text/x-python",
   "name": "python",
   "nbconvert_exporter": "python",
   "pygments_lexer": "ipython3",
   "version": "3.10.8"
  }
 },
 "nbformat": 4,
 "nbformat_minor": 2
}
