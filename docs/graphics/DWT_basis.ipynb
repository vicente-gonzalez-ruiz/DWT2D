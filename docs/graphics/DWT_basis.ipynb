{
 "cells": [
  {
   "cell_type": "markdown",
   "id": "7fd8a73c",
   "metadata": {},
   "source": [
    "[![Binder](https://mybinder.org/badge_logo.svg)](https://nbviewer.org/github/Sistemas-Multimedia/Sistemas-Multimedia.github.io/blob/master/milestones/08-DWT/DWT_basis.ipynb)"
   ]
  },
  {
   "cell_type": "markdown",
   "id": "239f579f",
   "metadata": {},
   "source": [
    "# 2D-DWT basis\n",
    "2-dimensional Discrete Wavelet Transform."
   ]
  },
  {
   "cell_type": "code",
   "execution_count": null,
   "id": "2d18b039",
   "metadata": {},
   "outputs": [],
   "source": [
    "import pywt # pip install pywavelets\n",
    "from matplotlib import pyplot as plt\n",
    "%matplotlib inline\n",
    "import numpy as np\n",
    "import cv2 # pip install opencv-python\n",
    "from scipy import ndimage"
   ]
  },
  {
   "cell_type": "code",
   "execution_count": null,
   "id": "6e03ada0",
   "metadata": {},
   "outputs": [],
   "source": [
    "wavelet = \"db5\"\n",
    "wavelet = \"bior3.7\"\n",
    "pixels_in_y = 128\n",
    "pixels_in_x = 128\n",
    "levels = 3"
   ]
  },
  {
   "cell_type": "code",
   "execution_count": null,
   "id": "ff6565ba",
   "metadata": {},
   "outputs": [],
   "source": [
    "img = np.zeros(shape=(pixels_in_y, pixels_in_x))\n",
    "decomposition = pywt.wavedec2(img, wavelet=wavelet, level=levels, mode='per')"
   ]
  },
  {
   "cell_type": "code",
   "execution_count": null,
   "id": "67ab6b3e",
   "metadata": {},
   "outputs": [],
   "source": [
    "len(decomposition)"
   ]
  },
  {
   "cell_type": "code",
   "execution_count": null,
   "id": "9ec487d8",
   "metadata": {},
   "outputs": [],
   "source": [
    "decomposition[0].shape"
   ]
  },
  {
   "cell_type": "code",
   "execution_count": null,
   "id": "62fd2789",
   "metadata": {},
   "outputs": [],
   "source": [
    "decomposition[1][0].shape"
   ]
  },
  {
   "cell_type": "code",
   "execution_count": null,
   "id": "1902fbe3",
   "metadata": {},
   "outputs": [],
   "source": [
    "decomposition[1][1].shape"
   ]
  },
  {
   "cell_type": "code",
   "execution_count": null,
   "id": "482c3afd",
   "metadata": {},
   "outputs": [],
   "source": [
    "decomposition[2][0].shape"
   ]
  },
  {
   "cell_type": "code",
   "execution_count": null,
   "id": "65f3aaf1",
   "metadata": {},
   "outputs": [],
   "source": [
    "decomposition[3][0].shape"
   ]
  },
  {
   "cell_type": "code",
   "execution_count": null,
   "id": "b1d6954d",
   "metadata": {
    "scrolled": false
   },
   "outputs": [],
   "source": [
    "iterator = iter(decomposition)\n",
    "\n",
    "# LL subband\n",
    "LL = next(iterator)\n",
    "LL[LL.shape[0]//2, LL.shape[1]//2] = 1\n",
    "basis = pywt.waverec2(decomposition, wavelet=wavelet, mode=\"per\")\n",
    "LL[LL.shape[0]//2, LL.shape[1]//2] = 0\n",
    "plt.title(\"$\\mathbf{ll}\" + f\"^{levels}$\", fontsize=30)\n",
    "plt.imshow(basis, cmap=plt.cm.gray)\n",
    "plt.xticks([])\n",
    "plt.yticks([])\n",
    "plt.savefig(f\"LL{levels}.png\", dpi=30)\n",
    "plt.show()\n",
    "\n",
    "resol = levels\n",
    "for resolution in iterator:\n",
    "    counter = 0\n",
    "    for subband in resolution:\n",
    "        subband[subband.shape[0]//2, subband.shape[1]//2] = 1\n",
    "        basis = pywt.waverec2(decomposition, wavelet=wavelet, mode=\"per\")\n",
    "        subband[subband.shape[0]//2, subband.shape[1]//2] = 0\n",
    "        if (counter % 3) == 0:\n",
    "            title = \"$\\mathbf{lh}\" + f\"^{resol}$\"\n",
    "            title_file = f\"LH{resol}\"\n",
    "        elif (counter % 3) == 1:\n",
    "            title = \"$\\mathbf{hl}\" + f\"^{resol}$\"\n",
    "            title_file = f\"HL{resol}\"\n",
    "        else:\n",
    "            title = \"$\\mathbf{hh}\" + f\"^{resol}$\"\n",
    "            title_file = f\"HH{resol}\"\n",
    "        plt.title(title, fontsize=30)\n",
    "        plt.xticks([])\n",
    "        plt.yticks([])\n",
    "        plt.imshow(basis, cmap=plt.cm.gray)\n",
    "        plt.savefig(f\"{title_file}.png\", dpi=30)\n",
    "        plt.show()\n",
    "        counter += 1\n",
    "    resol -= 1"
   ]
  }
 ],
 "metadata": {
  "kernelspec": {
   "display_name": "Python 3 (ipykernel)",
   "language": "python",
   "name": "python3"
  },
  "language_info": {
   "codemirror_mode": {
    "name": "ipython",
    "version": 3
   },
   "file_extension": ".py",
   "mimetype": "text/x-python",
   "name": "python",
   "nbconvert_exporter": "python",
   "pygments_lexer": "ipython3",
   "version": "3.10.8"
  }
 },
 "nbformat": 4,
 "nbformat_minor": 5
}
