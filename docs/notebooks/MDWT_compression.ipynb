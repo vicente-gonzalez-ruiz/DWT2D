{
 "cells": [
  {
   "cell_type": "markdown",
   "metadata": {},
   "source": [
    "[![Binder](https://mybinder.org/badge_logo.svg)](https://nbviewer.org/github/Sistemas-Multimedia/Sistemas-Multimedia.github.io/blob/master/milestones/08-DWT/MDWT_compression.ipynb)"
   ]
  },
  {
   "cell_type": "markdown",
   "metadata": {
    "colab_type": "text",
    "id": "view-in-github"
   },
   "source": [
    "<a href=\"https://colab.research.google.com/github/vicente-gonzalez-ruiz/MCDWT-experimentos/blob/master/src/MDWT_1_5.ipynb\" target=\"_parent\"><img src=\"https://colab.research.google.com/assets/colab-badge.svg\" alt=\"Open In Colab\"/></a>"
   ]
  },
  {
   "cell_type": "markdown",
   "metadata": {},
   "source": [
    "# RD in the MDWT (Motion Discrete Wavelet Transform) domain\n",
    "\n",
    "Optimal RD should consider the slopes of all the points of all the images of the sequence.\n",
    "\n",
    "Unfinished."
   ]
  },
  {
   "cell_type": "code",
   "execution_count": null,
   "metadata": {},
   "outputs": [],
   "source": [
    "%matplotlib inline\n",
    "\n",
    "import matplotlib\n",
    "import matplotlib.pyplot as plt\n",
    "import matplotlib.axes as ax\n",
    "import math\n",
    "import numpy as np\n",
    "from scipy import signal\n",
    "import cv2\n",
    "import os\n",
    "import pywt\n",
    "import pylab\n",
    "!ln -sf ~/quantization/deadzone_quantizer.py .\n",
    "import deadzone_quantizer as deadzone\n",
    "!ln -sf ~/MRVC/src/image_3.py .\n",
    "import image_3 as frame\n",
    "!ln -sf ~/MRVC/src/YCoCg.py .\n",
    "import YCoCg\n",
    "!ln -sf ~/MRVC/src/DWT.py .\n",
    "!ln -sf ~/MRVC/src/L_DWT.py .\n",
    "!ln -sf ~/MRVC/src/H_DWT.py .\n",
    "import DWT\n",
    "!ln -sf ~/quantization/information.py .\n",
    "!ln -sf ~/quantization/distortion.py .\n",
    "import distortion"
   ]
  },
  {
   "cell_type": "code",
   "execution_count": null,
   "metadata": {},
   "outputs": [],
   "source": [
    "def q_deq(x, quantization_step):\n",
    "    k = deadzone.quantize(x, quantization_step)\n",
    "    y = deadzone.dequantize(k, quantization_step)\n",
    "    return y, k"
   ]
  },
  {
   "cell_type": "code",
   "execution_count": null,
   "metadata": {},
   "outputs": [],
   "source": [
    "def load_indexes(prefix):\n",
    "    frame.read(prefix)\n",
    "    \n",
    "def write_indexes(prefix):\n",
    "    frame.write(prefix)"
   ]
  },
  {
   "cell_type": "code",
   "execution_count": null,
   "metadata": {},
   "outputs": [],
   "source": [
    "def show(img, title):\n",
    "    int = frame.normalize(ing)\n",
    "    plt.figure(figsize=(10,10))\n",
    "    plt.title(title, fontsize=20)\n",
    "    plt.imshow(img)"
   ]
  },
  {
   "cell_type": "code",
   "execution_count": null,
   "metadata": {},
   "outputs": [],
   "source": [
    "def average_energy(x):\n",
    "    return np.sum(x.astype(np.double)*x.astype(np.double))/(np.size(x))\n",
    "\n",
    "def MSE(x, y):\n",
    "    error_signal = x.astype(np.float32) - y\n",
    "    return average_energy(error_signal)\n",
    "\n",
    "def RMSE(x, y):\n",
    "    error_signal = xx.astype(np.float32) - y\n",
    "    return math.sqrt(MSE(error_signal))\n",
    "\n",
    "def bytes_per_frame(img):\n",
    "    frame.write(img, \"/tmp/frame\", 0)\n",
    "    length_in_bytes = os.path.getsize(\"/tmp/frame000.png\")\n",
    "    return length_in_bytes\n",
    "\n",
    "def bytes_per_grayframe(img):\n",
    "    cv2.imwrite(\"/tmp/frame.png\", img)\n",
    "    length_in_bytes = os.path.getsize(\"/tmp/frame.png\")\n",
    "    return length_in_bytes"
   ]
  },
  {
   "cell_type": "code",
   "execution_count": null,
   "metadata": {},
   "outputs": [],
   "source": [
    "WAVELET = pywt.Wavelet(\"db5\")\n",
    "#WAVELET = pywt.Wavelet(\"bior3.5\")\n",
    "N_levels = 3\n",
    "\n",
    "def DWT_RD_curve(RGB_frame, N_levels):\n",
    "    n_channels = RGB_frame.shape[2]\n",
    "    RD_points = []\n",
    "    for q_step in range(0, 8):\n",
    "        YUV_frame = YCoCg.from_RGB(RGB_frame.astype(np.int16))\n",
    "        YUV_decomposition = DWT.analyze(YUV_frame, N_levels=N_levels)\n",
    "        dequantized_YUV_decomposition = []\n",
    "        rate = 0\n",
    "        cAn = YUV_decomposition[0]\n",
    "        dequantized_cAn, k = q_deq(cAn, 1<<q_step)\n",
    "        #rate += bytes_per_frame(k.astype(np.uint8))\n",
    "        rate += frame.write((k + 128).astype(np.uint8), f\"/tmp/{q_step}_\", 0)\n",
    "        dequantized_YUV_decomposition.append(dequantized_cAn)\n",
    "        rest_of_resolutions = YUV_decomposition[1:]\n",
    "        for resolution in rest_of_resolutions:\n",
    "            dequantized_resolution = []\n",
    "            for subband in resolution:\n",
    "                dequantized_subband, k  = q_deq(subband, 1<<q_step)\n",
    "                #rate += bytes_per_frame(k.astype(np.uint8))\n",
    "                rate += frame.write((k + 128).astype(np.uint8), f\"/tmp/{q_step}_\", 0)\n",
    "                dequantized_resolution.append(dequantized_subband)\n",
    "            dequantized_YUV_decomposition.append(tuple(dequantized_resolution))\n",
    "        reconstructed_YUV_frame = DWT.synthesize(dequantized_YUV_decomposition, N_levels=N_levels)\n",
    "        reconstructed_RGB_frame = YCoCg.to_RGB(reconstructed_YUV_frame)\n",
    "        _distortion = distortion.MSE(RGB_frame, reconstructed_RGB_frame)\n",
    "        print(f\"q_step={1<<q_step:>3}, rate={rate:>7} bytes, distortion={_distortion:>6.1f}\")\n",
    "        RD_points.append((8*rate/RGB_frame.size, _distortion))\n",
    "    return RD_points\n",
    "\n",
    "def _DWT_RD_curve(RGB_frame, N_levels):\n",
    "    n_channels = RGB_frame.shape[2]\n",
    "    RD_points = []\n",
    "    for q_step in range(0, 8):\n",
    "        YCoCg_frame = YCoCg.from_RGB(RGB_frame.astype(np.int16))\n",
    "        YCoCg_decomposition = DWT.analyze(YCoCg_frame, N_levels=N_levels)\n",
    "        dequantized_YCoCg_decomposition = []\n",
    "        rate = 0\n",
    "        for channel in range(n_channels):\n",
    "            # In a channel there is a decomposition\n",
    "            decomposition = YCoCg_decomposition[channel]\n",
    "            cAn = decomposition[0]\n",
    "            dequantized_cAn, k = q_deq(cAn, 1<<q_step)\n",
    "            k = k.astype(np.uint8)\n",
    "            dequantized_decomposition = [dequantized_cAn]\n",
    "            rate += bytes_per_frame(k)\n",
    "            rest_of_resolutions = decomposition[1:]\n",
    "            for resolution in rest_of_resolutions:\n",
    "                # In a resolution there is/are one/three subbands\n",
    "                dequantized_resolution = []\n",
    "                for subband in resolution:\n",
    "                    dequantized_subband, k = q_deq(subband, 1<<q_step)\n",
    "                    k = k.astype(np.uint8)\n",
    "                    rate += bytes_per_grayframe(k)\n",
    "                    dequantized_resolution.append(dequantized_subband)\n",
    "                dequantized_decomposition.append(tuple(dequantized_resolution))\n",
    "            dequantized_YCoCg_decomposition.append(dequantized_decomposition)\n",
    "        reconstructed_YCoCg_frame = DWT.synthesize(dequantized_YCoCg_decomposition, N_levels=N_levels)\n",
    "        reconstructed_RGB_frame = YCoCg.to_RGB(reconstructed_YCoCg_frame)\n",
    "        distortion = MSE(RGB_frame, reconstructed_RGB_frame)\n",
    "        print(f\"q_step={1<<q_step:>3}, rate={rate:>7} bytes, distortion={distortion:>6.1f}\")\n",
    "        RD_points.append((rate, distortion))\n",
    "    return RD_points\n",
    "\n",
    "def _DWT_RD_curve(RGB_frame, N_levels=N_levels):\n",
    "    n_channels = RGB_frame.shape[0]\n",
    "    RD_points = []\n",
    "    for q_step in range(0, 8):\n",
    "        YCoCg_frame = YCoCg.from_RGB(RGB_frame)\n",
    "        YCoCg_decomposition = DWT.analyze(YCoCg_frame, N_levels=N_levels)\n",
    "        dequantized_YCoCg_decomposition = []\n",
    "        rate = 0\n",
    "        for channel in range(n_channels):\n",
    "            # In a channel there is a decomposition\n",
    "            decomposition = YCoCg_decomposition[channel]\n",
    "            cAn = decomposition[0]\n",
    "            k, dequantized_cAn = q_deq(cAn, 1<<q_step)\n",
    "            dequantized_decomposition = [dequantized_cAn]\n",
    "            rate += bytes_per_frame(k)\n",
    "            rest_of_resolutions = decomposition[1:]\n",
    "            for resolution in rest_of_resolutions:\n",
    "                # In a resolution there is/are one/three subbands\n",
    "                dequantized_resolution = []\n",
    "                for subband in resolution:\n",
    "                    k, dequantized_subband = q_deq(subband, 1<<q_step)\n",
    "                    rate += bytes_per_frame(k)\n",
    "                    dequantized_resolution.append(dequantized_subband)\n",
    "                dequantized_decomposition.append(tuple(dequantized_resolution))\n",
    "            dequantized_YCoCg_decomposition.append(dequantized_decomposition)\n",
    "        reconstructed_YCoCg_frame = DWT.synthesize(dequantized_YCoCg_decomposition)\n",
    "        reconstructed_RGB_frame = YCoCg.to_RGB(reconstructed_YCoCg_frame)\n",
    "        distortion = MSE(RGB_frame, reconstructed_RGB_frame)\n",
    "        print(f\"q_step={1<<q_step:>3}, rate={rate:>7} bytes, distortion={distortion:>6.1f}\")\n",
    "        RD_points.append((rate, distortion))\n",
    "    return RD_points"
   ]
  },
  {
   "cell_type": "code",
   "execution_count": null,
   "metadata": {},
   "outputs": [],
   "source": [
    "RD_curves = []\n",
    "for frame_number in range(5):\n",
    "    fn = f\"/home/vruiz/MRVC/sequences/stockholm/\"\n",
    "    print(fn)\n",
    "    RGB_frame = frame.read(fn, frame_number)\n",
    "    RD_points = DWT_RD_curve(RGB_frame, N_levels=3)\n",
    "    RD_curves.append(RD_points)"
   ]
  },
  {
   "cell_type": "code",
   "execution_count": null,
   "metadata": {},
   "outputs": [],
   "source": [
    "pylab.figure(dpi=150)\n",
    "for frame_number in range(5):\n",
    "    pylab.plot(*zip(*RD_curves[frame_number]), marker=\"x\", label=f'{frame_number:03d}')\n",
    "pylab.title(\"RD Curves of Consecutive Frames\")\n",
    "pylab.xlabel(\"Bytes/Frame\")\n",
    "pylab.ylabel(\"MSE\")\n",
    "plt.legend(loc='upper right')\n",
    "plt.yscale('log')\n",
    "#plt.xscale('log')\n",
    "pylab.show()"
   ]
  },
  {
   "cell_type": "code",
   "execution_count": null,
   "metadata": {},
   "outputs": [],
   "source": []
  }
 ],
 "metadata": {
  "colab": {
   "include_colab_link": true,
   "name": "ejemplo.ipynb",
   "provenance": []
  },
  "kernelspec": {
   "display_name": "Python 3 (ipykernel)",
   "language": "python",
   "name": "python3"
  },
  "language_info": {
   "codemirror_mode": {
    "name": "ipython",
    "version": 3
   },
   "file_extension": ".py",
   "mimetype": "text/x-python",
   "name": "python",
   "nbconvert_exporter": "python",
   "pygments_lexer": "ipython3",
   "version": "3.10.0"
  }
 },
 "nbformat": 4,
 "nbformat_minor": 1
}
